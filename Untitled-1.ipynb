{
 "cells": [
  {
   "cell_type": "code",
   "execution_count": 1,
   "metadata": {},
   "outputs": [],
   "source": [
    "from bm import BMBoard\n",
    "import numpy as np\n",
    "from copy import deepcopy"
   ]
  },
  {
   "cell_type": "code",
   "execution_count": 36,
   "metadata": {},
   "outputs": [],
   "source": [
    "class Node:\n",
    "    def __init__(self, state, parent = None):\n",
    "        self.state = state\n",
    "        self.parent = parent\n",
    "        self.visit_count = 0\n",
    "        self.total_reward = 0\n",
    "        self.uct = np.inf\n",
    "        self.children = []\n",
    "\n",
    "        self.action = None\n",
    "        self.player = None\n",
    "\n",
    "        self.fully_expanded = False\n",
    "\n",
    "    def add_child(self, child):\n",
    "        self.children.append(child)\n",
    "\n",
    "    def update(self, reward):\n",
    "        self.total_reward += reward\n",
    "        self.visit_count += 1\n",
    "        \n",
    "    @property\n",
    "    def value(self):\n",
    "        return self.total_reward/self.visit_count\n",
    "\n",
    "    @property\n",
    "    def is_root(self):\n",
    "        return self.parent == None\n",
    "\n",
    "    @property\n",
    "    def has_children(self):\n",
    "        return len(self.children) > 0\n",
    "    "
   ]
  },
  {
   "cell_type": "code",
   "execution_count": 52,
   "metadata": {},
   "outputs": [],
   "source": [
    "game = BMBoard(3)\n",
    "root = Node(game.board_state)"
   ]
  },
  {
   "cell_type": "code",
   "execution_count": 56,
   "metadata": {},
   "outputs": [],
   "source": [
    "game = BMBoard(3)\n",
    "root = Node(game.board_state)\n",
    "\n",
    "\n",
    "for i in range(100):\n",
    "    current_node = deepcopy(root)\n",
    "\n",
    "    # select best path\n",
    "    while current_node.has_children and current_node.fully_expanded:\n",
    "        children = current_node.children\n",
    "        current_node = children[np.argmax([c.uct for c in children])]\n",
    "\n",
    "    # which player is going to make an action\n",
    "    player = 1 if current_node.player == None or current_node.player == 2 else 2\n",
    "\n",
    "    # all valid actions\n",
    "    valid_actions = game.valid_actions(player, current_node.state)\n",
    "    actions_taken = [n.action for n in current_node.children if n.action != None]\n",
    "    actions_available = list(set(valid_actions) - set(actions_taken))\n",
    "\n",
    "    # what actions have been taken from current_node \n",
    "    action = np.random.choice(actions_available)\n",
    "\n",
    "    # check if the node will be fully expanded after this action is taken\n",
    "    current_node.fully_expanded = set(valid_actions) == set(actions_taken)  \n",
    "\n",
    "    # take the action to generate a new state    \n",
    "    if player == 1:\n",
    "        new_state = game.step([(1, action), (2, BMBoard.Actions.NONE.value)], True, *current_node.state[:-1])\n",
    "    else:\n",
    "        new_state = game.step([(1, BMBoard.Actions.NONE.value), (2, action)], True, *current_node.state[:-1])\n",
    "\n",
    "    # add the new node to its parent (current_node)\n",
    "    new_node = Node(new_state, current_node)\n",
    "    current_node.add_child(new_node)\n",
    "\n",
    "    # set current_node to new node for simulation\n",
    "    current_node = new_node\n",
    "\n",
    "    # make random actions until done\n",
    "    _state = deepcopy(current_node.state)\n",
    "    while _state[-1] == False:\n",
    "        ra1 = np.random.choice(game.valid_actions(1, _state))\n",
    "        ra2 = np.random.choice(game.valid_actions(2, _state))\n",
    "        _state = game.step([(1, ra1), (2, ra2)], True, *_state[:-1])\n",
    "\n",
    "    # get winner id\n",
    "    meta = _state[-2]\n",
    "    winner = meta[meta[:, 1] != 0, 0]\n",
    "    if len(winner) == 0:\n",
    "        # tied\n",
    "        reward = 0\n",
    "    elif winner[0] == player:\n",
    "        reward = 1\n",
    "    else:\n",
    "        reward = -1\n",
    "\n",
    "    # update parents\n",
    "    parent = current_node\n",
    "    while parent != None:\n",
    "        parent.update(reward)\n",
    "        parent = parent.parent\n",
    "\n",
    "    # recalculate uct\n",
    "    def update_uct(children):\n",
    "        for c in children:\n",
    "            c.uct = c.value + np.sqrt(2*np.log(c.parent.visit_count)/c.visit_count)\n",
    "            if c.has_children:\n",
    "                update_uct(c.children)\n",
    "\n",
    "    update_uct(root.children)\n"
   ]
  },
  {
   "cell_type": "code",
   "execution_count": 57,
   "metadata": {},
   "outputs": [
    {
     "data": {
      "text/plain": "[]"
     },
     "execution_count": 57,
     "metadata": {},
     "output_type": "execute_result"
    }
   ],
   "source": [
    "root.children"
   ]
  },
  {
   "cell_type": "code",
   "execution_count": 45,
   "metadata": {},
   "outputs": [
    {
     "data": {
      "text/plain": "True"
     },
     "execution_count": 45,
     "metadata": {},
     "output_type": "execute_result"
    }
   ],
   "source": [
    "set([5,2,7]) == set([2,5,7])"
   ]
  }
 ],
 "metadata": {
  "interpreter": {
   "hash": "4fec226d215b097dbd602af0922e976e32d321fe3c398eb4c0ee3ed7bd20cb48"
  },
  "kernelspec": {
   "display_name": "Python 3.8.6 64-bit ('.venv': venv)",
   "name": "python3"
  },
  "language_info": {
   "codemirror_mode": {
    "name": "ipython",
    "version": 3
   },
   "file_extension": ".py",
   "mimetype": "text/x-python",
   "name": "python",
   "nbconvert_exporter": "python",
   "pygments_lexer": "ipython3",
   "version": "3.8.6"
  },
  "orig_nbformat": 2
 },
 "nbformat": 4,
 "nbformat_minor": 2
}